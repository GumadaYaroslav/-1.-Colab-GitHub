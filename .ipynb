{
  "nbformat": 4,
  "nbformat_minor": 0,
  "metadata": {
    "colab": {
      "name": "ГумадаЯрослав.ipynb",
      "provenance": [],
      "collapsed_sections": [],
      "authorship_tag": "ABX9TyOCmlDSkAjenRIEuoj8xmS4"
    },
    "kernelspec": {
      "name": "python3",
      "display_name": "Python 3"
    }
  },
  "cells": [
    {
      "cell_type": "markdown",
      "metadata": {
        "id": "LRJWLUA5MfSz"
      },
      "source": [
        "# Гумаада Ярослав Николаевич КИ19-21б\r\n"
      ]
    },
    {
      "cell_type": "code",
      "metadata": {
        "colab": {
          "base_uri": "https://localhost:8080/"
        },
        "id": "LLrRtts-MS_V",
        "outputId": "39735d39-8f08-419e-9fac-6e4dc080527d"
      },
      "source": [
        "print(\"Привет мир\")"
      ],
      "execution_count": 1,
      "outputs": [
        {
          "output_type": "stream",
          "text": [
            "Привет мир\n"
          ],
          "name": "stdout"
        }
      ]
    }
  ]
}