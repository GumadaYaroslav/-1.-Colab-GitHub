{
  "nbformat": 4,
  "nbformat_minor": 0,
  "metadata": {
    "colab": {
      "name": "ГумадаЯрослав.ipynb",
      "provenance": [],
      "collapsed_sections": [],
      "authorship_tag": "ABX9TyOCmlDSkAjenRIEuoj8xmS4",
      "include_colab_link": true
    },
    "kernelspec": {
      "name": "python3",
      "display_name": "Python 3"
    }
  },
  "cells": [
    {
      "cell_type": "markdown",
      "metadata": {
        "id": "view-in-github",
        "colab_type": "text"
      },
      "source": [
        "<a href=\"https://colab.research.google.com/gist/GumadaYaroslav/f59d8c1ea6bcc8d9a76ce283fae850a0/.ipynb\" target=\"_parent\"><img src=\"https://colab.research.google.com/assets/colab-badge.svg\" alt=\"Open In Colab\"/></a>"
      ]
    },
    {
      "cell_type": "markdown",
      "metadata": {
        "id": "LRJWLUA5MfSz"
      },
      "source": [
        "# Гумаада Ярослав Николаевич КИ19-21б\r\n"
      ]
    },
    {
      "cell_type": "code",
      "metadata": {
        "colab": {
          "base_uri": "https://localhost:8080/"
        },
        "id": "LLrRtts-MS_V",
        "outputId": "39735d39-8f08-419e-9fac-6e4dc080527d"
      },
      "source": [
        "print(\"Привет мир\")"
      ],
      "execution_count": 1,
      "outputs": [
        {
          "output_type": "stream",
          "text": [
            "Привет мир\n"
          ],
          "name": "stdout"
        }
      ]
    }
  ]
}